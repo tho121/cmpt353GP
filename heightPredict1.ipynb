{
 "cells": [
  {
   "cell_type": "code",
   "execution_count": 4,
   "metadata": {},
   "outputs": [],
   "source": [
    "import pandas as pd\n",
    "import sys\n",
    "import numpy as np\n",
    "import matplotlib.pyplot as plt\n",
    "from data_clean import clean_data, get_features, createDataframe"
   ]
  },
  {
   "cell_type": "code",
   "execution_count": 28,
   "metadata": {},
   "outputs": [],
   "source": [
    "group_size = 24"
   ]
  },
  {
   "cell_type": "code",
   "execution_count": 29,
   "metadata": {},
   "outputs": [],
   "source": [
    "dataFrames = []"
   ]
  },
  {
   "cell_type": "code",
   "execution_count": 31,
   "metadata": {},
   "outputs": [],
   "source": [
    "dataFrames.append(createDataframe('raw data/2020-12-10tony650steps.csv', group_size, 178))\n",
    "dataFrames.append(createDataframe('raw data/2020-12-10mary1.csv', group_size, 150))\n",
    "dataFrames.append(createDataframe('raw data/161cm walk1.csv', group_size, 161))\n",
    "dataFrames.append(createDataframe('raw data/173cm walk1.csv', group_size, 173))\n",
    "dataFrames.append(createDataframe('raw data/2020-12-10peter166.csv', group_size, 166))\n",
    "dataFrames.append(createDataframe('raw data/176cm walk.csv', group_size, 176))\n",
    "dataFrames.append(createDataframe('raw data/173cm walk2.csv', group_size, 173))\n",
    "dataFrames.append(createDataframe('raw data/173cm walk3.csv', group_size, 173))\n",
    "dataFrames.append(createDataframe('raw data/2020-12-06walka.csv', group_size, 178))\n",
    "dataFrames.append(createDataframe('raw data/2020-12-06walkb.csv', group_size, 178))\n",
    "dataFrames.append(createDataframe('raw data/2020-12-10judy153.csv', group_size, 153))\n",
    "dataFrames.append(createDataframe('raw data/2020-12-10judy2.csv', group_size, 153))\n",
    "dataFrames.append(createDataframe('raw data/2020-12-10judy3.csv', group_size, 153))\n",
    "dataFrames.append(createDataframe('raw data/2020-12-10andrew169.csv', group_size, 169))"
   ]
  },
  {
   "cell_type": "code",
   "execution_count": 33,
   "metadata": {},
   "outputs": [],
   "source": [
    "merged_df = pd.concat(dataFrames)\n",
    "sampled_df = merged_df"
   ]
  },
  {
   "cell_type": "code",
   "execution_count": null,
   "metadata": {},
   "outputs": [],
   "source": [
    "merged_df.count()"
   ]
  },
  {
   "cell_type": "code",
   "execution_count": 19,
   "metadata": {},
   "outputs": [
    {
     "data": {
      "text/html": [
       "<div>\n",
       "<style scoped>\n",
       "    .dataframe tbody tr th:only-of-type {\n",
       "        vertical-align: middle;\n",
       "    }\n",
       "\n",
       "    .dataframe tbody tr th {\n",
       "        vertical-align: top;\n",
       "    }\n",
       "\n",
       "    .dataframe thead th {\n",
       "        text-align: right;\n",
       "    }\n",
       "</style>\n",
       "<table border=\"1\" class=\"dataframe\">\n",
       "  <thead>\n",
       "    <tr style=\"text-align: right;\">\n",
       "      <th></th>\n",
       "      <th>speed</th>\n",
       "      <th>distance</th>\n",
       "      <th>steps</th>\n",
       "      <th>time</th>\n",
       "    </tr>\n",
       "    <tr>\n",
       "      <th>height</th>\n",
       "      <th></th>\n",
       "      <th></th>\n",
       "      <th></th>\n",
       "      <th></th>\n",
       "    </tr>\n",
       "  </thead>\n",
       "  <tbody>\n",
       "    <tr>\n",
       "      <th>150</th>\n",
       "      <td>2168</td>\n",
       "      <td>2168</td>\n",
       "      <td>2168</td>\n",
       "      <td>2168</td>\n",
       "    </tr>\n",
       "    <tr>\n",
       "      <th>153</th>\n",
       "      <td>15297</td>\n",
       "      <td>15297</td>\n",
       "      <td>15297</td>\n",
       "      <td>15297</td>\n",
       "    </tr>\n",
       "    <tr>\n",
       "      <th>161</th>\n",
       "      <td>3481</td>\n",
       "      <td>3481</td>\n",
       "      <td>3481</td>\n",
       "      <td>3481</td>\n",
       "    </tr>\n",
       "    <tr>\n",
       "      <th>166</th>\n",
       "      <td>22824</td>\n",
       "      <td>22824</td>\n",
       "      <td>22824</td>\n",
       "      <td>22824</td>\n",
       "    </tr>\n",
       "    <tr>\n",
       "      <th>169</th>\n",
       "      <td>4127</td>\n",
       "      <td>4127</td>\n",
       "      <td>4127</td>\n",
       "      <td>4127</td>\n",
       "    </tr>\n",
       "    <tr>\n",
       "      <th>173</th>\n",
       "      <td>10326</td>\n",
       "      <td>10326</td>\n",
       "      <td>10326</td>\n",
       "      <td>10326</td>\n",
       "    </tr>\n",
       "    <tr>\n",
       "      <th>176</th>\n",
       "      <td>6224</td>\n",
       "      <td>6224</td>\n",
       "      <td>6224</td>\n",
       "      <td>6224</td>\n",
       "    </tr>\n",
       "    <tr>\n",
       "      <th>178</th>\n",
       "      <td>14925</td>\n",
       "      <td>14925</td>\n",
       "      <td>14925</td>\n",
       "      <td>14925</td>\n",
       "    </tr>\n",
       "  </tbody>\n",
       "</table>\n",
       "</div>"
      ],
      "text/plain": [
       "        speed  distance  steps   time\n",
       "height                               \n",
       "150      2168      2168   2168   2168\n",
       "153     15297     15297  15297  15297\n",
       "161      3481      3481   3481   3481\n",
       "166     22824     22824  22824  22824\n",
       "169      4127      4127   4127   4127\n",
       "173     10326     10326  10326  10326\n",
       "176      6224      6224   6224   6224\n",
       "178     14925     14925  14925  14925"
      ]
     },
     "execution_count": 19,
     "metadata": {},
     "output_type": "execute_result"
    }
   ],
   "source": [
    "merged_df.groupby(['height']).count()"
   ]
  },
  {
   "cell_type": "code",
   "execution_count": 60,
   "metadata": {},
   "outputs": [],
   "source": [
    "sampled_df = merged_df.groupby(['height']).sample(20000, replace=True)"
   ]
  },
  {
   "cell_type": "code",
   "execution_count": 53,
   "metadata": {},
   "outputs": [
    {
     "data": {
      "text/plain": [
       "[<matplotlib.lines.Line2D at 0x19b00b28dc0>]"
      ]
     },
     "execution_count": 53,
     "metadata": {},
     "output_type": "execute_result"
    },
    {
     "data": {
      "image/png": "[encoded data removed]",
      "text/plain": [
       "<Figure size 432x288 with 4 Axes>"
      ]
     },
     "metadata": {
      "needs_background": "light"
     },
     "output_type": "display_data"
    }
   ],
   "source": [
    "fig, axs = plt.subplots(4)\n",
    "fig.suptitle('Vertically stacked subplots')\n",
    "axs[0].plot(sampled_df['height'], sampled_df['speed'], \"*\")\n",
    "axs[1].plot(sampled_df['height'], sampled_df['distance'], \"o\")\n",
    "axs[2].plot(sampled_df['height'], sampled_df['steps'], \"x\")\n",
    "axs[3].plot(sampled_df['height'], sampled_df['time'], \"x\")"
   ]
  },
  {
   "cell_type": "code",
   "execution_count": 61,
   "metadata": {},
   "outputs": [
    {
     "data": {
      "text/html": [
       "<div>\n",
       "<style scoped>\n",
       "    .dataframe tbody tr th:only-of-type {\n",
       "        vertical-align: middle;\n",
       "    }\n",
       "\n",
       "    .dataframe tbody tr th {\n",
       "        vertical-align: top;\n",
       "    }\n",
       "\n",
       "    .dataframe thead th {\n",
       "        text-align: right;\n",
       "    }\n",
       "</style>\n",
       "<table border=\"1\" class=\"dataframe\">\n",
       "  <thead>\n",
       "    <tr style=\"text-align: right;\">\n",
       "      <th></th>\n",
       "      <th>speed</th>\n",
       "      <th>distance</th>\n",
       "      <th>steps</th>\n",
       "      <th>time</th>\n",
       "      <th>height</th>\n",
       "    </tr>\n",
       "  </thead>\n",
       "  <tbody>\n",
       "    <tr>\n",
       "      <th>315</th>\n",
       "      <td>0.962639</td>\n",
       "      <td>48.046894</td>\n",
       "      <td>6.0</td>\n",
       "      <td>3.038</td>\n",
       "      <td>150</td>\n",
       "    </tr>\n",
       "    <tr>\n",
       "      <th>1395</th>\n",
       "      <td>1.527222</td>\n",
       "      <td>6.214809</td>\n",
       "      <td>7.0</td>\n",
       "      <td>3.444</td>\n",
       "      <td>150</td>\n",
       "    </tr>\n",
       "    <tr>\n",
       "      <th>1697</th>\n",
       "      <td>1.497222</td>\n",
       "      <td>4.437070</td>\n",
       "      <td>7.0</td>\n",
       "      <td>3.478</td>\n",
       "      <td>150</td>\n",
       "    </tr>\n",
       "    <tr>\n",
       "      <th>2381</th>\n",
       "      <td>1.471007</td>\n",
       "      <td>6.665664</td>\n",
       "      <td>7.0</td>\n",
       "      <td>3.441</td>\n",
       "      <td>150</td>\n",
       "    </tr>\n",
       "    <tr>\n",
       "      <th>1269</th>\n",
       "      <td>1.552778</td>\n",
       "      <td>6.575928</td>\n",
       "      <td>6.0</td>\n",
       "      <td>3.436</td>\n",
       "      <td>150</td>\n",
       "    </tr>\n",
       "    <tr>\n",
       "      <th>...</th>\n",
       "      <td>...</td>\n",
       "      <td>...</td>\n",
       "      <td>...</td>\n",
       "      <td>...</td>\n",
       "      <td>...</td>\n",
       "    </tr>\n",
       "    <tr>\n",
       "      <th>364</th>\n",
       "      <td>1.255174</td>\n",
       "      <td>3.146621</td>\n",
       "      <td>6.0</td>\n",
       "      <td>3.438</td>\n",
       "      <td>178</td>\n",
       "    </tr>\n",
       "    <tr>\n",
       "      <th>1780</th>\n",
       "      <td>1.474931</td>\n",
       "      <td>4.065559</td>\n",
       "      <td>5.0</td>\n",
       "      <td>3.430</td>\n",
       "      <td>178</td>\n",
       "    </tr>\n",
       "    <tr>\n",
       "      <th>6805</th>\n",
       "      <td>1.304792</td>\n",
       "      <td>3.934221</td>\n",
       "      <td>7.0</td>\n",
       "      <td>3.463</td>\n",
       "      <td>178</td>\n",
       "    </tr>\n",
       "    <tr>\n",
       "      <th>6419</th>\n",
       "      <td>1.387431</td>\n",
       "      <td>6.628868</td>\n",
       "      <td>5.0</td>\n",
       "      <td>3.450</td>\n",
       "      <td>178</td>\n",
       "    </tr>\n",
       "    <tr>\n",
       "      <th>6262</th>\n",
       "      <td>1.394410</td>\n",
       "      <td>4.363163</td>\n",
       "      <td>7.0</td>\n",
       "      <td>3.498</td>\n",
       "      <td>178</td>\n",
       "    </tr>\n",
       "  </tbody>\n",
       "</table>\n",
       "<p>160000 rows × 5 columns</p>\n",
       "</div>"
      ],
      "text/plain": [
       "         speed   distance  steps   time  height\n",
       "315   0.962639  48.046894    6.0  3.038     150\n",
       "1395  1.527222   6.214809    7.0  3.444     150\n",
       "1697  1.497222   4.437070    7.0  3.478     150\n",
       "2381  1.471007   6.665664    7.0  3.441     150\n",
       "1269  1.552778   6.575928    6.0  3.436     150\n",
       "...        ...        ...    ...    ...     ...\n",
       "364   1.255174   3.146621    6.0  3.438     178\n",
       "1780  1.474931   4.065559    5.0  3.430     178\n",
       "6805  1.304792   3.934221    7.0  3.463     178\n",
       "6419  1.387431   6.628868    5.0  3.450     178\n",
       "6262  1.394410   4.363163    7.0  3.498     178\n",
       "\n",
       "[160000 rows x 5 columns]"
      ]
     },
     "execution_count": 61,
     "metadata": {},
     "output_type": "execute_result"
    }
   ],
   "source": [
    "sampled_df"
   ]
  },
  {
   "cell_type": "code",
   "execution_count": 62,
   "metadata": {},
   "outputs": [],
   "source": [
    "from sklearn.model_selection import train_test_split\n",
    "from sklearn import preprocessing as pre\n",
    "\n",
    "X = sampled_df[['speed','distance','steps', 'time']].to_numpy()\n",
    "y = sampled_df['height'].to_numpy()\n",
    "\n",
    "X_train, X_test, y_train, y_test = train_test_split(X, y, train_size=0.95)\n",
    "\n",
    "scaler = pre.StandardScaler()\n",
    "X_train_scaled = scaler.fit_transform(X_train)\n",
    "X_test_scaled = scaler.fit_transform(X_test)\n",
    "\n"
   ]
  },
  {
   "cell_type": "code",
   "execution_count": 63,
   "metadata": {},
   "outputs": [
    {
     "data": {
      "text/plain": [
       "0.2935554216604258"
      ]
     },
     "execution_count": 63,
     "metadata": {},
     "output_type": "execute_result"
    }
   ],
   "source": [
    "from sklearn.neural_network import MLPRegressor\n",
    "from sklearn.pipeline import make_pipeline\n",
    "from sklearn.preprocessing import PolynomialFeatures\n",
    "from sklearn.linear_model import LinearRegression\n",
    "\n",
    "poly_model = make_pipeline( PolynomialFeatures(4), LinearRegression())\n",
    "result_poly = poly_model.fit(X_train, y_train)\n",
    "result_poly.score(X_test, y_test)"
   ]
  },
  {
   "cell_type": "code",
   "execution_count": 27,
   "metadata": {},
   "outputs": [
    {
     "data": {
      "text/plain": [
       "0.20553501945731323"
      ]
     },
     "execution_count": 27,
     "metadata": {},
     "output_type": "execute_result"
    }
   ],
   "source": [
    "mpl_model = make_pipeline( MLPRegressor(hidden_layer_sizes=(800,800,800,800,800)))\n",
    "result_mpl = mpl_model.fit(X_train_scaled, y_train)\n",
    "result_mpl.score(X_test_scaled, y_test)"
   ]
  },
  {
   "cell_type": "code",
   "execution_count": 42,
   "metadata": {},
   "outputs": [
    {
     "name": "stderr",
     "output_type": "stream",
     "text": [
      "C:\\Program Files (x86)\\Microsoft Visual Studio\\Shared\\Anaconda3_64\\lib\\site-packages\\sklearn\\neural_network\\_multilayer_perceptron.py:582: ConvergenceWarning: Stochastic Optimizer: Maximum iterations (200) reached and the optimization hasn't converged yet.\n",
      "  warnings.warn(\n"
     ]
    },
    {
     "data": {
      "text/plain": [
       "0.3578101043989602"
      ]
     },
     "execution_count": 42,
     "metadata": {},
     "output_type": "execute_result"
    }
   ],
   "source": [
    "mpl_model = make_pipeline( MLPRegressor(hidden_layer_sizes=(40,40,40,40,40,40,40,40,40,40,40)))\n",
    "result_mpl = mpl_model.fit(X_train_scaled, y_train)\n",
    "result_mpl.score(X_test_scaled, y_test)"
   ]
  },
  {
   "cell_type": "code",
   "execution_count": null,
   "metadata": {},
   "outputs": [],
   "source": [
    "mpl_model3 = make_pipeline( MLPRegressor(hidden_layer_sizes=(100,100,100), max_iter=2000, tol=0.01))\n",
    "result_mpl3 = mpl_model3.fit(X_train_scaled, y_train)\n",
    "result_mpl3.score(X_test_scaled, y_test)"
   ]
  },
  {
   "cell_type": "code",
   "execution_count": 69,
   "metadata": {},
   "outputs": [],
   "source": [
    "y_predict = result_mpl.predict(X_train_scaled)"
   ]
  },
  {
   "cell_type": "code",
   "execution_count": 73,
   "metadata": {},
   "outputs": [
    {
     "data": {
      "text/plain": [
       "-15.691537673805328"
      ]
     },
     "execution_count": 73,
     "metadata": {},
     "output_type": "execute_result"
    }
   ],
   "source": [
    "(y_predict - y_train).min()"
   ]
  },
  {
   "cell_type": "code",
   "execution_count": 35,
   "metadata": {},
   "outputs": [
    {
     "data": {
      "text/plain": [
       "2444"
      ]
     },
     "execution_count": 35,
     "metadata": {},
     "output_type": "execute_result"
    }
   ],
   "source": [
    "len(y_predict)"
   ]
  },
  {
   "cell_type": "code",
   "execution_count": null,
   "metadata": {},
   "outputs": [],
   "source": [
    "from sklearn.ensemble import RandomForestClassifier\n",
    "\n",
    "model_class = make_pipeline( \n",
    "        RandomForestClassifier(n_estimators=400,\n",
    "        max_depth=15, min_samples_leaf=15)\n",
    "    )"
   ]
  },
  {
   "cell_type": "code",
   "execution_count": null,
   "metadata": {},
   "outputs": [],
   "source": [
    "model_class.fit(X_train_scaled, y_train)\n",
    "model_class.score(X_test_scaled, y_test)"
   ]
  },
  {
   "cell_type": "code",
   "execution_count": null,
   "metadata": {},
   "outputs": [],
   "source": []
  }
 ],
 "metadata": {
  "kernelspec": {
   "display_name": "Python 3",
   "language": "python",
   "name": "python3"
  },
  "language_info": {
   "codemirror_mode": {
    "name": "ipython",
    "version": 3
   },
   "file_extension": ".py",
   "mimetype": "text/x-python",
   "name": "python",
   "nbconvert_exporter": "python",
   "pygments_lexer": "ipython3",
   "version": "3.8.3"
  }
 },
 "nbformat": 4,
 "nbformat_minor": 4
}
