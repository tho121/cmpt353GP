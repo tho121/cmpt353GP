{
 "cells": [
  {
   "cell_type": "code",
   "execution_count": 5,
   "metadata": {},
   "outputs": [],
   "source": [
    "import pandas as pd\n",
    "import sys\n",
    "import numpy as np\n",
    "import matplotlib.pyplot as plt\n",
    "from data_clean import clean_data, get_features, createDataframe"
   ]
  },
  {
   "cell_type": "code",
   "execution_count": 49,
   "metadata": {},
   "outputs": [],
   "source": [
    "group_size = 100"
   ]
  },
  {
   "cell_type": "code",
   "execution_count": 50,
   "metadata": {},
   "outputs": [],
   "source": [
    "dataFrames = []"
   ]
  },
  {
   "cell_type": "code",
   "execution_count": 51,
   "metadata": {},
   "outputs": [],
   "source": [
    "dataFrames.append(createDataframe('raw data/2020-12-10tony650steps.csv', group_size, 178))\n",
    "dataFrames.append(createDataframe('raw data/2020-12-10mary1.csv', group_size, 150))\n",
    "dataFrames.append(createDataframe('raw data/161cm walk1.csv', group_size, 161))\n",
    "dataFrames.append(createDataframe('raw data/173cm walk1.csv', group_size, 173))\n",
    "dataFrames.append(createDataframe('raw data/2020-12-10peter166.csv', group_size, 166))\n",
    "dataFrames.append(createDataframe('raw data/176cm walk.csv', group_size, 176))\n",
    "dataFrames.append(createDataframe('raw data/173cm walk2.csv', group_size, 173))\n",
    "dataFrames.append(createDataframe('raw data/173cm walk3.csv', group_size, 173))\n",
    "dataFrames.append(createDataframe('raw data/2020-12-06walka.csv', group_size, 178))\n",
    "dataFrames.append(createDataframe('raw data/2020-12-06walkb.csv', group_size, 178))\n",
    "dataFrames.append(createDataframe('raw data/2020-12-10judy153.csv', group_size, 153))\n",
    "dataFrames.append(createDataframe('raw data/2020-12-10judy2.csv', group_size, 153))\n",
    "dataFrames.append(createDataframe('raw data/2020-12-10judy3.csv', group_size, 153))\n",
    "dataFrames.append(createDataframe('raw data/2020-12-10andrew169.csv', group_size, 169))\n",
    "dataFrames.append(createDataframe('raw data/180cm walk.csv', group_size, 180))"
   ]
  },
  {
   "cell_type": "code",
   "execution_count": 52,
   "metadata": {},
   "outputs": [],
   "source": [
    "merged_df = pd.concat(dataFrames)\n",
    "sampled_df = merged_df"
   ]
  },
  {
   "cell_type": "code",
   "execution_count": null,
   "metadata": {},
   "outputs": [],
   "source": [
    "merged_df.count()"
   ]
  },
  {
   "cell_type": "code",
   "execution_count": 53,
   "metadata": {},
   "outputs": [
    {
     "data": {
      "text/html": [
       "<div>\n",
       "<style scoped>\n",
       "    .dataframe tbody tr th:only-of-type {\n",
       "        vertical-align: middle;\n",
       "    }\n",
       "\n",
       "    .dataframe tbody tr th {\n",
       "        vertical-align: top;\n",
       "    }\n",
       "\n",
       "    .dataframe thead th {\n",
       "        text-align: right;\n",
       "    }\n",
       "</style>\n",
       "<table border=\"1\" class=\"dataframe\">\n",
       "  <thead>\n",
       "    <tr style=\"text-align: right;\">\n",
       "      <th></th>\n",
       "      <th>speed</th>\n",
       "      <th>distance</th>\n",
       "      <th>steps</th>\n",
       "      <th>time</th>\n",
       "      <th>v3</th>\n",
       "    </tr>\n",
       "    <tr>\n",
       "      <th>height</th>\n",
       "      <th></th>\n",
       "      <th></th>\n",
       "      <th></th>\n",
       "      <th></th>\n",
       "      <th></th>\n",
       "    </tr>\n",
       "  </thead>\n",
       "  <tbody>\n",
       "    <tr>\n",
       "      <th>150</th>\n",
       "      <td>2167</td>\n",
       "      <td>2167</td>\n",
       "      <td>2167</td>\n",
       "      <td>2167</td>\n",
       "      <td>2167</td>\n",
       "    </tr>\n",
       "    <tr>\n",
       "      <th>153</th>\n",
       "      <td>14945</td>\n",
       "      <td>14945</td>\n",
       "      <td>14945</td>\n",
       "      <td>14945</td>\n",
       "      <td>14945</td>\n",
       "    </tr>\n",
       "    <tr>\n",
       "      <th>161</th>\n",
       "      <td>3305</td>\n",
       "      <td>3305</td>\n",
       "      <td>3305</td>\n",
       "      <td>3305</td>\n",
       "      <td>3305</td>\n",
       "    </tr>\n",
       "    <tr>\n",
       "      <th>166</th>\n",
       "      <td>22677</td>\n",
       "      <td>22677</td>\n",
       "      <td>22677</td>\n",
       "      <td>22677</td>\n",
       "      <td>22677</td>\n",
       "    </tr>\n",
       "    <tr>\n",
       "      <th>169</th>\n",
       "      <td>4014</td>\n",
       "      <td>4014</td>\n",
       "      <td>4014</td>\n",
       "      <td>4014</td>\n",
       "      <td>4014</td>\n",
       "    </tr>\n",
       "    <tr>\n",
       "      <th>173</th>\n",
       "      <td>9798</td>\n",
       "      <td>9798</td>\n",
       "      <td>9798</td>\n",
       "      <td>9798</td>\n",
       "      <td>9798</td>\n",
       "    </tr>\n",
       "    <tr>\n",
       "      <th>176</th>\n",
       "      <td>6426</td>\n",
       "      <td>6426</td>\n",
       "      <td>6426</td>\n",
       "      <td>6426</td>\n",
       "      <td>6426</td>\n",
       "    </tr>\n",
       "    <tr>\n",
       "      <th>178</th>\n",
       "      <td>14605</td>\n",
       "      <td>14605</td>\n",
       "      <td>14605</td>\n",
       "      <td>14605</td>\n",
       "      <td>14605</td>\n",
       "    </tr>\n",
       "    <tr>\n",
       "      <th>180</th>\n",
       "      <td>47</td>\n",
       "      <td>47</td>\n",
       "      <td>47</td>\n",
       "      <td>47</td>\n",
       "      <td>47</td>\n",
       "    </tr>\n",
       "  </tbody>\n",
       "</table>\n",
       "</div>"
      ],
      "text/plain": [
       "        speed  distance  steps   time     v3\n",
       "height                                      \n",
       "150      2167      2167   2167   2167   2167\n",
       "153     14945     14945  14945  14945  14945\n",
       "161      3305      3305   3305   3305   3305\n",
       "166     22677     22677  22677  22677  22677\n",
       "169      4014      4014   4014   4014   4014\n",
       "173      9798      9798   9798   9798   9798\n",
       "176      6426      6426   6426   6426   6426\n",
       "178     14605     14605  14605  14605  14605\n",
       "180        47        47     47     47     47"
      ]
     },
     "execution_count": 53,
     "metadata": {},
     "output_type": "execute_result"
    }
   ],
   "source": [
    "merged_df.groupby(['height']).count()"
   ]
  },
  {
   "cell_type": "code",
   "execution_count": 54,
   "metadata": {},
   "outputs": [],
   "source": [
    "sampled_df = merged_df.groupby(['height']).sample(15000, replace=True)"
   ]
  },
  {
   "cell_type": "code",
   "execution_count": 37,
   "metadata": {},
   "outputs": [
    {
     "data": {
      "text/plain": [
       "[<matplotlib.lines.Line2D at 0x22d3c184fd0>]"
      ]
     },
     "execution_count": 37,
     "metadata": {},
     "output_type": "execute_result"
    },
    {
     "data": {
      "image/png": "[encoded data removed]",
      "text/plain": [
       "<Figure size 432x288 with 4 Axes>"
      ]
     },
     "metadata": {
      "needs_background": "light"
     },
     "output_type": "display_data"
    }
   ],
   "source": [
    "fig, axs = plt.subplots(4)\n",
    "fig.suptitle('Vertically stacked subplots')\n",
    "axs[0].plot(sampled_df['height'], sampled_df['speed'], \"*\")\n",
    "axs[1].plot(sampled_df['height'], sampled_df['distance'], \"o\")\n",
    "axs[2].plot(sampled_df['height'], sampled_df['steps'], \"x\")\n",
    "axs[3].plot(sampled_df['height'], sampled_df['time'], \"x\")"
   ]
  },
  {
   "cell_type": "code",
   "execution_count": 68,
   "metadata": {},
   "outputs": [
    {
     "data": {
      "text/html": [
       "<div>\n",
       "<style scoped>\n",
       "    .dataframe tbody tr th:only-of-type {\n",
       "        vertical-align: middle;\n",
       "    }\n",
       "\n",
       "    .dataframe tbody tr th {\n",
       "        vertical-align: top;\n",
       "    }\n",
       "\n",
       "    .dataframe thead th {\n",
       "        text-align: right;\n",
       "    }\n",
       "</style>\n",
       "<table border=\"1\" class=\"dataframe\">\n",
       "  <thead>\n",
       "    <tr style=\"text-align: right;\">\n",
       "      <th></th>\n",
       "      <th>speed</th>\n",
       "      <th>distance</th>\n",
       "      <th>steps</th>\n",
       "      <th>time</th>\n",
       "      <th>height</th>\n",
       "    </tr>\n",
       "  </thead>\n",
       "  <tbody>\n",
       "    <tr>\n",
       "      <th>984</th>\n",
       "      <td>1.436597</td>\n",
       "      <td>7.519350</td>\n",
       "      <td>8.0</td>\n",
       "      <td>3.428</td>\n",
       "      <td>150</td>\n",
       "    </tr>\n",
       "    <tr>\n",
       "      <th>435</th>\n",
       "      <td>1.508785</td>\n",
       "      <td>5.457189</td>\n",
       "      <td>8.0</td>\n",
       "      <td>3.443</td>\n",
       "      <td>150</td>\n",
       "    </tr>\n",
       "    <tr>\n",
       "      <th>1845</th>\n",
       "      <td>1.434062</td>\n",
       "      <td>5.404745</td>\n",
       "      <td>7.0</td>\n",
       "      <td>3.458</td>\n",
       "      <td>150</td>\n",
       "    </tr>\n",
       "    <tr>\n",
       "      <th>1311</th>\n",
       "      <td>1.534236</td>\n",
       "      <td>6.251893</td>\n",
       "      <td>7.0</td>\n",
       "      <td>3.455</td>\n",
       "      <td>150</td>\n",
       "    </tr>\n",
       "    <tr>\n",
       "      <th>2328</th>\n",
       "      <td>1.440000</td>\n",
       "      <td>4.307568</td>\n",
       "      <td>8.0</td>\n",
       "      <td>3.477</td>\n",
       "      <td>150</td>\n",
       "    </tr>\n",
       "    <tr>\n",
       "      <th>...</th>\n",
       "      <td>...</td>\n",
       "      <td>...</td>\n",
       "      <td>...</td>\n",
       "      <td>...</td>\n",
       "      <td>...</td>\n",
       "    </tr>\n",
       "    <tr>\n",
       "      <th>1490</th>\n",
       "      <td>1.491424</td>\n",
       "      <td>5.288752</td>\n",
       "      <td>6.0</td>\n",
       "      <td>3.497</td>\n",
       "      <td>178</td>\n",
       "    </tr>\n",
       "    <tr>\n",
       "      <th>1052</th>\n",
       "      <td>1.434549</td>\n",
       "      <td>5.945543</td>\n",
       "      <td>7.0</td>\n",
       "      <td>4.505</td>\n",
       "      <td>178</td>\n",
       "    </tr>\n",
       "    <tr>\n",
       "      <th>1465</th>\n",
       "      <td>1.406667</td>\n",
       "      <td>6.985454</td>\n",
       "      <td>6.0</td>\n",
       "      <td>3.440</td>\n",
       "      <td>178</td>\n",
       "    </tr>\n",
       "    <tr>\n",
       "      <th>3876</th>\n",
       "      <td>1.306528</td>\n",
       "      <td>6.997781</td>\n",
       "      <td>6.0</td>\n",
       "      <td>3.459</td>\n",
       "      <td>178</td>\n",
       "    </tr>\n",
       "    <tr>\n",
       "      <th>1215</th>\n",
       "      <td>1.450000</td>\n",
       "      <td>5.839765</td>\n",
       "      <td>7.0</td>\n",
       "      <td>3.478</td>\n",
       "      <td>178</td>\n",
       "    </tr>\n",
       "  </tbody>\n",
       "</table>\n",
       "<p>120000 rows × 5 columns</p>\n",
       "</div>"
      ],
      "text/plain": [
       "         speed  distance  steps   time  height\n",
       "984   1.436597  7.519350    8.0  3.428     150\n",
       "435   1.508785  5.457189    8.0  3.443     150\n",
       "1845  1.434062  5.404745    7.0  3.458     150\n",
       "1311  1.534236  6.251893    7.0  3.455     150\n",
       "2328  1.440000  4.307568    8.0  3.477     150\n",
       "...        ...       ...    ...    ...     ...\n",
       "1490  1.491424  5.288752    6.0  3.497     178\n",
       "1052  1.434549  5.945543    7.0  4.505     178\n",
       "1465  1.406667  6.985454    6.0  3.440     178\n",
       "3876  1.306528  6.997781    6.0  3.459     178\n",
       "1215  1.450000  5.839765    7.0  3.478     178\n",
       "\n",
       "[120000 rows x 5 columns]"
      ]
     },
     "execution_count": 68,
     "metadata": {},
     "output_type": "execute_result"
    }
   ],
   "source": [
    "sampled_df"
   ]
  },
  {
   "cell_type": "code",
   "execution_count": 55,
   "metadata": {},
   "outputs": [],
   "source": [
    "from sklearn.model_selection import train_test_split\n",
    "from sklearn import preprocessing as pre\n",
    "\n",
    "X = sampled_df[['speed','distance','steps', 'time', 'v3']].to_numpy()\n",
    "y = sampled_df['height'].to_numpy()\n",
    "\n",
    "X_train, X_test, y_train, y_test = train_test_split(X, y, train_size=0.95)\n",
    "\n",
    "scaler = pre.StandardScaler()\n",
    "X_train_scaled = scaler.fit_transform(X_train)\n",
    "X_test_scaled = scaler.fit_transform(X_test)\n",
    "\n"
   ]
  },
  {
   "cell_type": "code",
   "execution_count": 56,
   "metadata": {},
   "outputs": [
    {
     "data": {
      "text/plain": [
       "0.9206537436054953"
      ]
     },
     "execution_count": 56,
     "metadata": {},
     "output_type": "execute_result"
    }
   ],
   "source": [
    "from sklearn.neural_network import MLPRegressor\n",
    "from sklearn.pipeline import make_pipeline\n",
    "from sklearn.preprocessing import PolynomialFeatures\n",
    "from sklearn.linear_model import LinearRegression\n",
    "\n",
    "poly_model = make_pipeline( PolynomialFeatures(8), LinearRegression())\n",
    "result_poly = poly_model.fit(X_train, y_train)\n",
    "result_poly.score(X_test, y_test)"
   ]
  },
  {
   "cell_type": "code",
   "execution_count": 27,
   "metadata": {},
   "outputs": [
    {
     "data": {
      "text/plain": [
       "0.20553501945731323"
      ]
     },
     "execution_count": 27,
     "metadata": {},
     "output_type": "execute_result"
    }
   ],
   "source": [
    "mpl_model = make_pipeline( MLPRegressor(hidden_layer_sizes=(800,800,800,800,800)))\n",
    "result_mpl = mpl_model.fit(X_train_scaled, y_train)\n",
    "result_mpl.score(X_test_scaled, y_test)"
   ]
  },
  {
   "cell_type": "code",
   "execution_count": 42,
   "metadata": {},
   "outputs": [
    {
     "name": "stderr",
     "output_type": "stream",
     "text": [
      "C:\\Program Files (x86)\\Microsoft Visual Studio\\Shared\\Anaconda3_64\\lib\\site-packages\\sklearn\\neural_network\\_multilayer_perceptron.py:582: ConvergenceWarning: Stochastic Optimizer: Maximum iterations (200) reached and the optimization hasn't converged yet.\n",
      "  warnings.warn(\n"
     ]
    },
    {
     "data": {
      "text/plain": [
       "0.3578101043989602"
      ]
     },
     "execution_count": 42,
     "metadata": {},
     "output_type": "execute_result"
    }
   ],
   "source": [
    "mpl_model = make_pipeline( MLPRegressor(hidden_layer_sizes=(40,40,40,40,40,40,40,40,40,40,40)))\n",
    "result_mpl = mpl_model.fit(X_train_scaled, y_train)\n",
    "result_mpl.score(X_test_scaled, y_test)"
   ]
  },
  {
   "cell_type": "code",
   "execution_count": 58,
   "metadata": {},
   "outputs": [
    {
     "data": {
      "text/plain": [
       "0.9278375876804172"
      ]
     },
     "execution_count": 58,
     "metadata": {},
     "output_type": "execute_result"
    }
   ],
   "source": [
    "mpl_model3 = make_pipeline( MLPRegressor(hidden_layer_sizes=(100,100,100), max_iter=2000, tol=0.01))\n",
    "result_mpl3 = mpl_model3.fit(X_train_scaled, y_train)\n",
    "result_mpl3.score(X_test_scaled, y_test)"
   ]
  },
  {
   "cell_type": "code",
   "execution_count": 59,
   "metadata": {},
   "outputs": [],
   "source": [
    "y_predict = result_mpl3.predict(X_test_scaled)"
   ]
  },
  {
   "cell_type": "code",
   "execution_count": 60,
   "metadata": {},
   "outputs": [
    {
     "data": {
      "text/plain": [
       "(array([3.000e+00, 0.000e+00, 6.000e+00, 7.000e+00, 7.000e+00, 1.200e+01,\n",
       "        1.300e+01, 2.600e+01, 4.500e+01, 3.700e+01, 5.600e+01, 6.000e+01,\n",
       "        1.570e+02, 2.300e+02, 3.410e+02, 8.380e+02, 1.299e+03, 1.611e+03,\n",
       "        8.810e+02, 4.930e+02, 2.510e+02, 1.140e+02, 7.600e+01, 3.800e+01,\n",
       "        1.900e+01, 2.200e+01, 1.800e+01, 1.900e+01, 2.000e+01, 7.000e+00,\n",
       "        1.900e+01, 1.400e+01, 5.000e+00, 2.000e+00, 0.000e+00, 1.000e+00,\n",
       "        0.000e+00, 0.000e+00, 2.000e+00, 1.000e+00]),\n",
       " array([-13.78844148, -12.93888039, -12.08931929, -11.23975819,\n",
       "        -10.3901971 ,  -9.540636  ,  -8.6910749 ,  -7.84151381,\n",
       "         -6.99195271,  -6.14239161,  -5.29283052,  -4.44326942,\n",
       "         -3.59370832,  -2.74414723,  -1.89458613,  -1.04502503,\n",
       "         -0.19546393,   0.65409716,   1.50365826,   2.35321936,\n",
       "          3.20278045,   4.05234155,   4.90190265,   5.75146374,\n",
       "          6.60102484,   7.45058594,   8.30014703,   9.14970813,\n",
       "          9.99926923,  10.84883032,  11.69839142,  12.54795252,\n",
       "         13.39751361,  14.24707471,  15.09663581,  15.94619691,\n",
       "         16.795758  ,  17.6453191 ,  18.4948802 ,  19.34444129,\n",
       "         20.19400239]),\n",
       " <BarContainer object of 40 artists>)"
      ]
     },
     "execution_count": 60,
     "metadata": {},
     "output_type": "execute_result"
    },
    {
     "data": {
      "image/png": "[encoded data removed]",
      "text/plain": [
       "<Figure size 432x288 with 1 Axes>"
      ]
     },
     "metadata": {
      "needs_background": "light"
     },
     "output_type": "display_data"
    }
   ],
   "source": [
    "y_diff = y_predict - y_test\n",
    "plt.hist(y_diff, bins = 40)"
   ]
  },
  {
   "cell_type": "code",
   "execution_count": 35,
   "metadata": {},
   "outputs": [
    {
     "data": {
      "text/plain": [
       "2444"
      ]
     },
     "execution_count": 35,
     "metadata": {},
     "output_type": "execute_result"
    }
   ],
   "source": [
    "len(y_predict)"
   ]
  },
  {
   "cell_type": "code",
   "execution_count": 42,
   "metadata": {},
   "outputs": [],
   "source": [
    "from sklearn.ensemble import RandomForestClassifier\n",
    "\n",
    "model_class = make_pipeline( \n",
    "        RandomForestClassifier(n_estimators=400,\n",
    "        max_depth=15, min_samples_leaf=15)\n",
    "    )"
   ]
  },
  {
   "cell_type": "code",
   "execution_count": 57,
   "metadata": {},
   "outputs": [
    {
     "data": {
      "text/plain": [
       "0.9496296296296296"
      ]
     },
     "execution_count": 57,
     "metadata": {},
     "output_type": "execute_result"
    }
   ],
   "source": [
    "model_class.fit(X_train_scaled, y_train)\n",
    "model_class.score(X_test_scaled, y_test)"
   ]
  },
  {
   "cell_type": "code",
   "execution_count": null,
   "metadata": {},
   "outputs": [],
   "source": []
  }
 ],
 "metadata": {
  "kernelspec": {
   "display_name": "Python 3",
   "language": "python",
   "name": "python3"
  },
  "language_info": {
   "codemirror_mode": {
    "name": "ipython",
    "version": 3
   },
   "file_extension": ".py",
   "mimetype": "text/x-python",
   "name": "python",
   "nbconvert_exporter": "python",
   "pygments_lexer": "ipython3",
   "version": "3.8.3"
  }
 },
 "nbformat": 4,
 "nbformat_minor": 4
}
