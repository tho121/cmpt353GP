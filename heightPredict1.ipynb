{
 "cells": [
  {
   "cell_type": "code",
   "execution_count": 1,
   "metadata": {},
   "outputs": [],
   "source": [
    "import pandas as pd\n",
    "import sys\n",
    "import numpy as np\n",
    "import matplotlib.pyplot as plt\n",
    "from data_clean import clean_data, get_features, createDataframe"
   ]
  },
  {
   "cell_type": "code",
   "execution_count": 2,
   "metadata": {},
   "outputs": [],
   "source": [
    "group_size = 200"
   ]
  },
  {
   "cell_type": "code",
   "execution_count": 3,
   "metadata": {},
   "outputs": [],
   "source": [
    "dataFrames = []"
   ]
  },
  {
   "cell_type": "code",
   "execution_count": 4,
   "metadata": {},
   "outputs": [],
   "source": [
    "dataFrames.append(createDataframe('raw data/2020-12-10tony650steps.csv', group_size, 178))\n",
    "dataFrames.append(createDataframe('raw data/2020-12-10mary1.csv', group_size, 150))\n",
    "dataFrames.append(createDataframe('raw data/161cm walk1.csv', group_size, 161))\n",
    "dataFrames.append(createDataframe('raw data/173cm walk1.csv', group_size, 173))\n",
    "dataFrames.append(createDataframe('raw data/2020-12-10peter166.csv', group_size, 166))\n",
    "dataFrames.append(createDataframe('raw data/176cm walk.csv', group_size, 176))\n",
    "dataFrames.append(createDataframe('raw data/173cm walk2.csv', group_size, 173))\n",
    "dataFrames.append(createDataframe('raw data/173cm walk3.csv', group_size, 173))\n",
    "dataFrames.append(createDataframe('raw data/2020-12-06walka.csv', group_size, 178))\n",
    "dataFrames.append(createDataframe('raw data/2020-12-06walkb.csv', group_size, 178))\n",
    "dataFrames.append(createDataframe('raw data/2020-12-10judy153.csv', group_size, 153))\n",
    "dataFrames.append(createDataframe('raw data/2020-12-10judy2.csv', group_size, 153))\n",
    "dataFrames.append(createDataframe('raw data/2020-12-10judy3.csv', group_size, 153))\n",
    "dataFrames.append(createDataframe('raw data/2020-12-10andrew169.csv', group_size, 169))\n",
    "#dataFrames.append(createDataframe('raw data/180cm walk.csv', group_size, 180))\n",
    "#dataFrames.append(createDataframe('raw data/2020-12-11daye168.csv', group_size, 168))\n",
    "#dataFrames.append(createDataframe('raw data/2020-12-11daye2.csv', group_size, 168))\n",
    "#dataFrames.append(createDataframe('raw data/2020-12-11daye3.csv', group_size, 168))"
   ]
  },
  {
   "cell_type": "code",
   "execution_count": 5,
   "metadata": {},
   "outputs": [],
   "source": [
    "merged_df = pd.concat(dataFrames)\n",
    "sampled_df = merged_df"
   ]
  },
  {
   "cell_type": "code",
   "execution_count": 6,
   "metadata": {},
   "outputs": [
    {
     "data": {
      "text/plain": [
       "speed       77937\n",
       "distance    77937\n",
       "steps       77937\n",
       "time        77937\n",
       "v3          77937\n",
       "height      77937\n",
       "dtype: int64"
      ]
     },
     "execution_count": 6,
     "metadata": {},
     "output_type": "execute_result"
    }
   ],
   "source": [
    "merged_df.count()"
   ]
  },
  {
   "cell_type": "code",
   "execution_count": 7,
   "metadata": {},
   "outputs": [
    {
     "data": {
      "text/html": [
       "<div>\n",
       "<style scoped>\n",
       "    .dataframe tbody tr th:only-of-type {\n",
       "        vertical-align: middle;\n",
       "    }\n",
       "\n",
       "    .dataframe tbody tr th {\n",
       "        vertical-align: top;\n",
       "    }\n",
       "\n",
       "    .dataframe thead th {\n",
       "        text-align: right;\n",
       "    }\n",
       "</style>\n",
       "<table border=\"1\" class=\"dataframe\">\n",
       "  <thead>\n",
       "    <tr style=\"text-align: right;\">\n",
       "      <th></th>\n",
       "      <th>speed</th>\n",
       "      <th>distance</th>\n",
       "      <th>steps</th>\n",
       "      <th>time</th>\n",
       "      <th>v3</th>\n",
       "    </tr>\n",
       "    <tr>\n",
       "      <th>height</th>\n",
       "      <th></th>\n",
       "      <th></th>\n",
       "      <th></th>\n",
       "      <th></th>\n",
       "      <th></th>\n",
       "    </tr>\n",
       "  </thead>\n",
       "  <tbody>\n",
       "    <tr>\n",
       "      <th>150</th>\n",
       "      <td>2167</td>\n",
       "      <td>2167</td>\n",
       "      <td>2167</td>\n",
       "      <td>2167</td>\n",
       "      <td>2167</td>\n",
       "    </tr>\n",
       "    <tr>\n",
       "      <th>153</th>\n",
       "      <td>14945</td>\n",
       "      <td>14945</td>\n",
       "      <td>14945</td>\n",
       "      <td>14945</td>\n",
       "      <td>14945</td>\n",
       "    </tr>\n",
       "    <tr>\n",
       "      <th>161</th>\n",
       "      <td>3305</td>\n",
       "      <td>3305</td>\n",
       "      <td>3305</td>\n",
       "      <td>3305</td>\n",
       "      <td>3305</td>\n",
       "    </tr>\n",
       "    <tr>\n",
       "      <th>166</th>\n",
       "      <td>22677</td>\n",
       "      <td>22677</td>\n",
       "      <td>22677</td>\n",
       "      <td>22677</td>\n",
       "      <td>22677</td>\n",
       "    </tr>\n",
       "    <tr>\n",
       "      <th>169</th>\n",
       "      <td>4014</td>\n",
       "      <td>4014</td>\n",
       "      <td>4014</td>\n",
       "      <td>4014</td>\n",
       "      <td>4014</td>\n",
       "    </tr>\n",
       "    <tr>\n",
       "      <th>173</th>\n",
       "      <td>9798</td>\n",
       "      <td>9798</td>\n",
       "      <td>9798</td>\n",
       "      <td>9798</td>\n",
       "      <td>9798</td>\n",
       "    </tr>\n",
       "    <tr>\n",
       "      <th>176</th>\n",
       "      <td>6426</td>\n",
       "      <td>6426</td>\n",
       "      <td>6426</td>\n",
       "      <td>6426</td>\n",
       "      <td>6426</td>\n",
       "    </tr>\n",
       "    <tr>\n",
       "      <th>178</th>\n",
       "      <td>14605</td>\n",
       "      <td>14605</td>\n",
       "      <td>14605</td>\n",
       "      <td>14605</td>\n",
       "      <td>14605</td>\n",
       "    </tr>\n",
       "  </tbody>\n",
       "</table>\n",
       "</div>"
      ],
      "text/plain": [
       "        speed  distance  steps   time     v3\n",
       "height                                      \n",
       "150      2167      2167   2167   2167   2167\n",
       "153     14945     14945  14945  14945  14945\n",
       "161      3305      3305   3305   3305   3305\n",
       "166     22677     22677  22677  22677  22677\n",
       "169      4014      4014   4014   4014   4014\n",
       "173      9798      9798   9798   9798   9798\n",
       "176      6426      6426   6426   6426   6426\n",
       "178     14605     14605  14605  14605  14605"
      ]
     },
     "execution_count": 7,
     "metadata": {},
     "output_type": "execute_result"
    }
   ],
   "source": [
    "merged_df.groupby(['height']).count()"
   ]
  },
  {
   "cell_type": "code",
   "execution_count": 8,
   "metadata": {},
   "outputs": [],
   "source": [
    "sampled_df = merged_df.groupby(['height']).sample(10000, replace=True)"
   ]
  },
  {
   "cell_type": "code",
   "execution_count": 9,
   "metadata": {},
   "outputs": [
    {
     "data": {
      "text/plain": [
       "[<matplotlib.lines.Line2D at 0x2476bfe7220>]"
      ]
     },
     "execution_count": 9,
     "metadata": {},
     "output_type": "execute_result"
    },
    {
     "data": {
      "image/png": "[encoded data removed]",
      "text/plain": [
       "<Figure size 432x288 with 4 Axes>"
      ]
     },
     "metadata": {
      "needs_background": "light"
     },
     "output_type": "display_data"
    }
   ],
   "source": [
    "fig, axs = plt.subplots(4)\n",
    "fig.suptitle('Vertically stacked subplots')\n",
    "axs[0].plot(sampled_df['height'], sampled_df['speed'], \"*\")\n",
    "axs[1].plot(sampled_df['height'], sampled_df['distance'], \"o\")\n",
    "axs[2].plot(sampled_df['height'], sampled_df['steps'], \"x\")\n",
    "axs[3].plot(sampled_df['height'], sampled_df['time'], \"x\")"
   ]
  },
  {
   "cell_type": "code",
   "execution_count": 10,
   "metadata": {},
   "outputs": [
    {
     "data": {
      "text/html": [
       "<div>\n",
       "<style scoped>\n",
       "    .dataframe tbody tr th:only-of-type {\n",
       "        vertical-align: middle;\n",
       "    }\n",
       "\n",
       "    .dataframe tbody tr th {\n",
       "        vertical-align: top;\n",
       "    }\n",
       "\n",
       "    .dataframe thead th {\n",
       "        text-align: right;\n",
       "    }\n",
       "</style>\n",
       "<table border=\"1\" class=\"dataframe\">\n",
       "  <thead>\n",
       "    <tr style=\"text-align: right;\">\n",
       "      <th></th>\n",
       "      <th>speed</th>\n",
       "      <th>distance</th>\n",
       "      <th>steps</th>\n",
       "      <th>time</th>\n",
       "      <th>v3</th>\n",
       "      <th>height</th>\n",
       "    </tr>\n",
       "  </thead>\n",
       "  <tbody>\n",
       "    <tr>\n",
       "      <th>1881</th>\n",
       "      <td>1.452867</td>\n",
       "      <td>41.350885</td>\n",
       "      <td>59.0</td>\n",
       "      <td>28.757</td>\n",
       "      <td>5.730150</td>\n",
       "      <td>150</td>\n",
       "    </tr>\n",
       "    <tr>\n",
       "      <th>695</th>\n",
       "      <td>1.438417</td>\n",
       "      <td>47.039209</td>\n",
       "      <td>59.0</td>\n",
       "      <td>28.781</td>\n",
       "      <td>5.598743</td>\n",
       "      <td>150</td>\n",
       "    </tr>\n",
       "    <tr>\n",
       "      <th>597</th>\n",
       "      <td>1.476071</td>\n",
       "      <td>44.504774</td>\n",
       "      <td>62.0</td>\n",
       "      <td>28.787</td>\n",
       "      <td>5.488812</td>\n",
       "      <td>150</td>\n",
       "    </tr>\n",
       "    <tr>\n",
       "      <th>656</th>\n",
       "      <td>1.448446</td>\n",
       "      <td>45.542814</td>\n",
       "      <td>59.0</td>\n",
       "      <td>28.779</td>\n",
       "      <td>5.558488</td>\n",
       "      <td>150</td>\n",
       "    </tr>\n",
       "    <tr>\n",
       "      <th>2412</th>\n",
       "      <td>1.451996</td>\n",
       "      <td>46.812647</td>\n",
       "      <td>64.0</td>\n",
       "      <td>28.780</td>\n",
       "      <td>5.291599</td>\n",
       "      <td>150</td>\n",
       "    </tr>\n",
       "    <tr>\n",
       "      <th>...</th>\n",
       "      <td>...</td>\n",
       "      <td>...</td>\n",
       "      <td>...</td>\n",
       "      <td>...</td>\n",
       "      <td>...</td>\n",
       "      <td>...</td>\n",
       "    </tr>\n",
       "    <tr>\n",
       "      <th>1938</th>\n",
       "      <td>1.257192</td>\n",
       "      <td>31.637238</td>\n",
       "      <td>48.0</td>\n",
       "      <td>28.783</td>\n",
       "      <td>3.627362</td>\n",
       "      <td>178</td>\n",
       "    </tr>\n",
       "    <tr>\n",
       "      <th>1913</th>\n",
       "      <td>1.500396</td>\n",
       "      <td>42.072674</td>\n",
       "      <td>61.0</td>\n",
       "      <td>28.811</td>\n",
       "      <td>4.367128</td>\n",
       "      <td>178</td>\n",
       "    </tr>\n",
       "    <tr>\n",
       "      <th>6547</th>\n",
       "      <td>1.392846</td>\n",
       "      <td>42.970872</td>\n",
       "      <td>58.0</td>\n",
       "      <td>28.758</td>\n",
       "      <td>3.543096</td>\n",
       "      <td>178</td>\n",
       "    </tr>\n",
       "    <tr>\n",
       "      <th>845</th>\n",
       "      <td>1.231279</td>\n",
       "      <td>47.943319</td>\n",
       "      <td>63.0</td>\n",
       "      <td>35.973</td>\n",
       "      <td>3.718078</td>\n",
       "      <td>178</td>\n",
       "    </tr>\n",
       "    <tr>\n",
       "      <th>360</th>\n",
       "      <td>1.329892</td>\n",
       "      <td>50.844583</td>\n",
       "      <td>65.0</td>\n",
       "      <td>35.273</td>\n",
       "      <td>4.228057</td>\n",
       "      <td>178</td>\n",
       "    </tr>\n",
       "  </tbody>\n",
       "</table>\n",
       "<p>80000 rows × 6 columns</p>\n",
       "</div>"
      ],
      "text/plain": [
       "         speed   distance  steps    time        v3  height\n",
       "1881  1.452867  41.350885   59.0  28.757  5.730150     150\n",
       "695   1.438417  47.039209   59.0  28.781  5.598743     150\n",
       "597   1.476071  44.504774   62.0  28.787  5.488812     150\n",
       "656   1.448446  45.542814   59.0  28.779  5.558488     150\n",
       "2412  1.451996  46.812647   64.0  28.780  5.291599     150\n",
       "...        ...        ...    ...     ...       ...     ...\n",
       "1938  1.257192  31.637238   48.0  28.783  3.627362     178\n",
       "1913  1.500396  42.072674   61.0  28.811  4.367128     178\n",
       "6547  1.392846  42.970872   58.0  28.758  3.543096     178\n",
       "845   1.231279  47.943319   63.0  35.973  3.718078     178\n",
       "360   1.329892  50.844583   65.0  35.273  4.228057     178\n",
       "\n",
       "[80000 rows x 6 columns]"
      ]
     },
     "execution_count": 10,
     "metadata": {},
     "output_type": "execute_result"
    }
   ],
   "source": [
    "sampled_df"
   ]
  },
  {
   "cell_type": "code",
   "execution_count": 11,
   "metadata": {},
   "outputs": [],
   "source": [
    "from sklearn.model_selection import train_test_split\n",
    "from sklearn import preprocessing as pre\n",
    "\n",
    "X = sampled_df[['speed','distance','steps', 'time', 'v3']].to_numpy()\n",
    "y = sampled_df['height'].to_numpy()\n",
    "\n",
    "X_train, X_test, y_train, y_test = train_test_split(X, y, train_size=0.95)\n",
    "\n",
    "scaler = pre.StandardScaler()\n",
    "X_train_scaled = scaler.fit_transform(X_train)\n",
    "X_test_scaled = scaler.fit_transform(X_test)\n",
    "\n"
   ]
  },
  {
   "cell_type": "code",
   "execution_count": 12,
   "metadata": {},
   "outputs": [
    {
     "data": {
      "text/plain": [
       "0.8971275097709419"
      ]
     },
     "execution_count": 12,
     "metadata": {},
     "output_type": "execute_result"
    }
   ],
   "source": [
    "from sklearn.neural_network import MLPRegressor\n",
    "from sklearn.pipeline import make_pipeline\n",
    "from sklearn.preprocessing import PolynomialFeatures\n",
    "from sklearn.linear_model import LinearRegression\n",
    "\n",
    "poly_model = make_pipeline( PolynomialFeatures(10), LinearRegression())\n",
    "result_poly = poly_model.fit(X_train, y_train)\n",
    "result_poly.score(X_test, y_test)"
   ]
  },
  {
   "cell_type": "code",
   "execution_count": 18,
   "metadata": {},
   "outputs": [
    {
     "data": {
      "text/plain": [
       "(array([1.000e+00, 0.000e+00, 2.000e+00, 0.000e+00, 0.000e+00, 0.000e+00,\n",
       "        0.000e+00, 0.000e+00, 0.000e+00, 0.000e+00, 0.000e+00, 1.000e+00,\n",
       "        0.000e+00, 0.000e+00, 1.000e+00, 1.000e+00, 1.000e+00, 1.000e+00,\n",
       "        1.000e+00, 0.000e+00, 1.000e+00, 0.000e+00, 1.000e+00, 3.000e+00,\n",
       "        2.000e+00, 1.000e+00, 2.000e+00, 0.000e+00, 2.000e+00, 0.000e+00,\n",
       "        1.000e+00, 0.000e+00, 0.000e+00, 0.000e+00, 7.000e+00, 4.940e+02,\n",
       "        9.540e+02, 1.021e+03, 5.030e+02, 9.990e+02]),\n",
       " array([-282.33082606, -275.74721413, -269.1636022 , -262.57999028,\n",
       "        -255.99637835, -249.41276642, -242.82915449, -236.24554257,\n",
       "        -229.66193064, -223.07831871, -216.49470679, -209.91109486,\n",
       "        -203.32748293, -196.743871  , -190.16025908, -183.57664715,\n",
       "        -176.99303522, -170.4094233 , -163.82581137, -157.24219944,\n",
       "        -150.65858751, -144.07497559, -137.49136366, -130.90775173,\n",
       "        -124.32413981, -117.74052788, -111.15691595, -104.57330402,\n",
       "         -97.9896921 ,  -91.40608017,  -84.82246824,  -78.23885632,\n",
       "         -71.65524439,  -65.07163246,  -58.48802053,  -51.90440861,\n",
       "         -45.32079668,  -38.73718475,  -32.15357283,  -25.5699609 ,\n",
       "         -18.98634897]),\n",
       " <BarContainer object of 40 artists>)"
      ]
     },
     "execution_count": 18,
     "metadata": {},
     "output_type": "execute_result"
    },
    {
     "data": {
      "image/png": "[encoded data removed]",
      "text/plain": [
       "<Figure size 432x288 with 1 Axes>"
      ]
     },
     "metadata": {
      "needs_background": "light"
     },
     "output_type": "display_data"
    }
   ],
   "source": [
    "y_predict_poly = result_poly.predict(X_test_scaled)\n",
    "y_diff_poly = y_predict_poly - y_test\n",
    "plt.hist(y_diff_poly, bins = 40)"
   ]
  },
  {
   "cell_type": "code",
   "execution_count": 19,
   "metadata": {},
   "outputs": [
    {
     "data": {
      "text/plain": [
       "0.94525"
      ]
     },
     "execution_count": 19,
     "metadata": {},
     "output_type": "execute_result"
    }
   ],
   "source": [
    "from sklearn.ensemble import RandomForestClassifier\n",
    "\n",
    "model_class = make_pipeline( \n",
    "        RandomForestClassifier(n_estimators=400,\n",
    "        max_depth=15, min_samples_leaf=15)\n",
    "    )\n",
    "\n",
    "model_class.fit(X_train_scaled, y_train)\n",
    "model_class.score(X_test_scaled, y_test)"
   ]
  },
  {
   "cell_type": "code",
   "execution_count": 20,
   "metadata": {},
   "outputs": [
    {
     "data": {
      "text/plain": [
       "0.9219176996055939"
      ]
     },
     "execution_count": 20,
     "metadata": {},
     "output_type": "execute_result"
    }
   ],
   "source": [
    "mpl_model = make_pipeline( MLPRegressor(hidden_layer_sizes=(100,100,100)))\n",
    "result_mpl = mpl_model.fit(X_train_scaled, y_train)\n",
    "result_mpl.score(X_test_scaled, y_test)"
   ]
  },
  {
   "cell_type": "code",
   "execution_count": 21,
   "metadata": {},
   "outputs": [
    {
     "data": {
      "text/plain": [
       "(array([  2.,   0.,   0.,   0.,   3.,   4.,  12.,  20.,   7.,  29.,  24.,\n",
       "         29.,  47.,  57.,  79., 141., 320., 585., 858., 644., 650., 210.,\n",
       "         95.,  45.,  19.,  22.,  16.,  18.,  19.,   8.,  14.,   6.,   3.,\n",
       "          2.,   6.,   3.,   1.,   1.,   0.,   1.]),\n",
       " array([-14.94163846, -14.11801669, -13.29439491, -12.47077314,\n",
       "        -11.64715137, -10.8235296 ,  -9.99990782,  -9.17628605,\n",
       "         -8.35266428,  -7.52904251,  -6.70542073,  -5.88179896,\n",
       "         -5.05817719,  -4.23455542,  -3.41093364,  -2.58731187,\n",
       "         -1.7636901 ,  -0.94006833,  -0.11644655,   0.70717522,\n",
       "          1.53079699,   2.35441876,   3.17804054,   4.00166231,\n",
       "          4.82528408,   5.64890585,   6.47252763,   7.2961494 ,\n",
       "          8.11977117,   8.94339294,   9.76701472,  10.59063649,\n",
       "         11.41425826,  12.23788003,  13.06150181,  13.88512358,\n",
       "         14.70874535,  15.53236712,  16.3559889 ,  17.17961067,\n",
       "         18.00323244]),\n",
       " <BarContainer object of 40 artists>)"
      ]
     },
     "execution_count": 21,
     "metadata": {},
     "output_type": "execute_result"
    },
    {
     "data": {
      "image/png": "[encoded data removed]",
      "text/plain": [
       "<Figure size 432x288 with 1 Axes>"
      ]
     },
     "metadata": {
      "needs_background": "light"
     },
     "output_type": "display_data"
    }
   ],
   "source": [
    "y_predict_mpl = result_mpl.predict(X_test_scaled)\n",
    "y_diff_mpl = y_predict_mpl - y_test\n",
    "plt.hist(y_diff_mpl, bins = 40)"
   ]
  },
  {
   "cell_type": "code",
   "execution_count": null,
   "metadata": {},
   "outputs": [],
   "source": []
  }
 ],
 "metadata": {
  "kernelspec": {
   "display_name": "Python 3",
   "language": "python",
   "name": "python3"
  },
  "language_info": {
   "codemirror_mode": {
    "name": "ipython",
    "version": 3
   },
   "file_extension": ".py",
   "mimetype": "text/x-python",
   "name": "python",
   "nbconvert_exporter": "python",
   "pygments_lexer": "ipython3",
   "version": "3.8.3"
  }
 },
 "nbformat": 4,
 "nbformat_minor": 4
}
